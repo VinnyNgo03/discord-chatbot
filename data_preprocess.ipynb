{
 "cells": [
  {
   "cell_type": "code",
   "execution_count": 1,
   "metadata": {},
   "outputs": [],
   "source": [
    "import numpy as np\n",
    "import pandas as pd\n",
    "import torch\n",
    "import os\n",
    "import re\n",
    "import glob"
   ]
  },
  {
   "cell_type": "code",
   "execution_count": 2,
   "metadata": {},
   "outputs": [],
   "source": [
    "df = pd.read_csv(\"train_raw.csv\")"
   ]
  },
  {
   "cell_type": "code",
   "execution_count": 3,
   "metadata": {},
   "outputs": [],
   "source": [
    "context = []\n",
    "\n",
    "for i in df[df.name == \"Rigby\"].index:\n",
    "    if i < 1:\n",
    "        continue\n",
    "    row = []\n",
    "    prev = i - 2\n",
    "    for j in range(i, prev, -1):\n",
    "        row.append(df.line[j])\n",
    "    context.append(row)\n",
    "\n",
    "columns = [\"response\", \"context\"]\n",
    "\n",
    "data = pd.DataFrame.from_records(context, columns=columns)"
   ]
  },
  {
   "cell_type": "code",
   "execution_count": 5,
   "metadata": {},
   "outputs": [],
   "source": [
    "data.to_csv(\"train_data.csv\", index=False)"
   ]
  },
  {
   "cell_type": "code",
   "execution_count": 7,
   "metadata": {},
   "outputs": [
    {
     "name": "stdout",
     "output_type": "stream",
     "text": [
      "0                                   (laughs) Yeah, yeah!\n",
      "1                                               (laughs)\n",
      "2                         We have to go to that concert!\n",
      "3      Correction, they're cool in any grade, but you...\n",
      "4      Doesn't even matter! We can figure out a way, ...\n",
      "                             ...                        \n",
      "567                                  What? Give me that!\n",
      "568    The '80s [off-screen] called, they want their ...\n",
      "569                         Dude, we just hit past Pops!\n",
      "570                        It will, Mordecai. It has to.\n",
      "571    Who's the best prank caller now, jerk-dish?! (...\n",
      "Name: response, Length: 572, dtype: object\n"
     ]
    }
   ],
   "source": [
    "print(data.response)"
   ]
  },
  {
   "cell_type": "code",
   "execution_count": null,
   "metadata": {},
   "outputs": [],
   "source": []
  }
 ],
 "metadata": {
  "kernelspec": {
   "display_name": ".venv",
   "language": "python",
   "name": "python3"
  },
  "language_info": {
   "codemirror_mode": {
    "name": "ipython",
    "version": 3
   },
   "file_extension": ".py",
   "mimetype": "text/x-python",
   "name": "python",
   "nbconvert_exporter": "python",
   "pygments_lexer": "ipython3",
   "version": "3.12.4"
  }
 },
 "nbformat": 4,
 "nbformat_minor": 2
}
